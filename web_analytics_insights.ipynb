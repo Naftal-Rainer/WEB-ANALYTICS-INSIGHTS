{
 "cells": [
  {
   "cell_type": "markdown",
   "metadata": {},
   "source": [
    "# Project: WEB ANALYTICS INSIGHTS\n",
    "\n",
    " ## Table of Contents\n",
    "\n",
    "<ul>\n",
    "    <li><a href=\"#intro\">Introduction</a></li>\n",
    "    <li><a href=\"#wrangling\">Data Wrangling</a></li>\n",
    "    <li><a href=\"#feat_eng\">Feature Engineering</a></li>\n",
    "    <li><a href=\"#eda\">Exploratory Data Analysis</a></li>\n",
    "    <li><a href=\"#conclusions\">Conclusions</a></li>\n",
    "</ul>\n",
    "\n",
    "\n",
    "<a id='intro'></a>\n",
    "# Introduction\n",
    "\n",
    "In 2013, the e-commerce website has had flactuating visits. We'd like to understand the probable cause of this situation and discover possible insights to be used develop a data-driven strategy to engage and retain site visitors. The dataset contains traffic records of an ecommerce website.\n",
    "\n",
    "\n",
    "**Questions to help understand the dataset**\n",
    "- What is the daily distribution of site visitors.\n",
    "- What is the monthly distribution of site visitors.\n",
    "- What is the average orders made by clients.\n",
    "- What is the conversion rate?\n",
    "- What is the bounce rate?\n",
    "\n"
   ]
  },
  {
   "cell_type": "code",
   "execution_count": 41,
   "metadata": {},
   "outputs": [],
   "source": [
    "# Importing libraries\n",
    "\n",
    "import numpy as np \n",
    "import pandas as pd \n",
    "import matplotlib.pyplot as plt \n",
    "import seaborn as sns \n",
    "import warnings \n",
    "import statsmodels.api as sm\n",
    "import scipy.stats as scistat\n",
    "\n",
    "%matplotlib inline\n",
    "warnings.filterwarnings('ignore')"
   ]
  },
  {
   "cell_type": "code",
   "execution_count": 4,
   "metadata": {},
   "outputs": [
    {
     "data": {
      "text/html": [
       "<div>\n",
       "<style scoped>\n",
       "    .dataframe tbody tr th:only-of-type {\n",
       "        vertical-align: middle;\n",
       "    }\n",
       "\n",
       "    .dataframe tbody tr th {\n",
       "        vertical-align: top;\n",
       "    }\n",
       "\n",
       "    .dataframe thead th {\n",
       "        text-align: right;\n",
       "    }\n",
       "</style>\n",
       "<table border=\"1\" class=\"dataframe\">\n",
       "  <thead>\n",
       "    <tr style=\"text-align: right;\">\n",
       "      <th></th>\n",
       "      <th>DAY</th>\n",
       "      <th>VISITS</th>\n",
       "      <th>ORDERS</th>\n",
       "      <th>HAS_PURCHASED_PRIOR</th>\n",
       "      <th>DEVICE</th>\n",
       "      <th>BOUNCES</th>\n",
       "      <th>ADD_TO_CART</th>\n",
       "      <th>PRODUCT_PAGE_VIEWS</th>\n",
       "      <th>SEARCH_PAGE_VIEWS</th>\n",
       "      <th>GENDER</th>\n",
       "      <th>AGE</th>\n",
       "      <th>INCOME</th>\n",
       "    </tr>\n",
       "  </thead>\n",
       "  <tbody>\n",
       "    <tr>\n",
       "      <th>0</th>\n",
       "      <td>2013-01-01</td>\n",
       "      <td>64340</td>\n",
       "      <td>2312</td>\n",
       "      <td>N</td>\n",
       "      <td>iPhone</td>\n",
       "      <td>21755</td>\n",
       "      <td>21501</td>\n",
       "      <td>41587</td>\n",
       "      <td>45582</td>\n",
       "      <td>F</td>\n",
       "      <td>24</td>\n",
       "      <td>451529</td>\n",
       "    </tr>\n",
       "    <tr>\n",
       "      <th>1</th>\n",
       "      <td>2013-01-02</td>\n",
       "      <td>63958</td>\n",
       "      <td>2427</td>\n",
       "      <td>N</td>\n",
       "      <td>iPhone</td>\n",
       "      <td>15675</td>\n",
       "      <td>21355</td>\n",
       "      <td>41392</td>\n",
       "      <td>45456</td>\n",
       "      <td>F</td>\n",
       "      <td>22</td>\n",
       "      <td>384768</td>\n",
       "    </tr>\n",
       "    <tr>\n",
       "      <th>2</th>\n",
       "      <td>2013-01-03</td>\n",
       "      <td>67390</td>\n",
       "      <td>2230</td>\n",
       "      <td>Y</td>\n",
       "      <td>iPhone</td>\n",
       "      <td>28199</td>\n",
       "      <td>17086</td>\n",
       "      <td>46559</td>\n",
       "      <td>51972</td>\n",
       "      <td>M</td>\n",
       "      <td>71</td>\n",
       "      <td>283793</td>\n",
       "    </tr>\n",
       "    <tr>\n",
       "      <th>3</th>\n",
       "      <td>2013-01-04</td>\n",
       "      <td>58305</td>\n",
       "      <td>1814</td>\n",
       "      <td>N</td>\n",
       "      <td>iPhone</td>\n",
       "      <td>24380</td>\n",
       "      <td>17172</td>\n",
       "      <td>35612</td>\n",
       "      <td>41043</td>\n",
       "      <td>M</td>\n",
       "      <td>51</td>\n",
       "      <td>417355</td>\n",
       "    </tr>\n",
       "    <tr>\n",
       "      <th>4</th>\n",
       "      <td>2013-01-05</td>\n",
       "      <td>74434</td>\n",
       "      <td>2333</td>\n",
       "      <td>Y</td>\n",
       "      <td>iPhone</td>\n",
       "      <td>15518</td>\n",
       "      <td>19392</td>\n",
       "      <td>44692</td>\n",
       "      <td>55954</td>\n",
       "      <td>F</td>\n",
       "      <td>32</td>\n",
       "      <td>99205</td>\n",
       "    </tr>\n",
       "  </tbody>\n",
       "</table>\n",
       "</div>"
      ],
      "text/plain": [
       "         DAY  VISITS  ORDERS HAS_PURCHASED_PRIOR  DEVICE  BOUNCES  \\\n",
       "0 2013-01-01   64340    2312                   N  iPhone    21755   \n",
       "1 2013-01-02   63958    2427                   N  iPhone    15675   \n",
       "2 2013-01-03   67390    2230                   Y  iPhone    28199   \n",
       "3 2013-01-04   58305    1814                   N  iPhone    24380   \n",
       "4 2013-01-05   74434    2333                   Y  iPhone    15518   \n",
       "\n",
       "   ADD_TO_CART  PRODUCT_PAGE_VIEWS  SEARCH_PAGE_VIEWS GENDER  AGE  INCOME  \n",
       "0        21501               41587              45582      F   24  451529  \n",
       "1        21355               41392              45456      F   22  384768  \n",
       "2        17086               46559              51972      M   71  283793  \n",
       "3        17172               35612              41043      M   51  417355  \n",
       "4        19392               44692              55954      F   32   99205  "
      ]
     },
     "execution_count": 4,
     "metadata": {},
     "output_type": "execute_result"
    }
   ],
   "source": [
    "# Load Data\n",
    "df = pd.read_excel('Data\\Web_Analytics_Data.xlsx')\n",
    "df.head()"
   ]
  },
  {
   "cell_type": "code",
   "execution_count": 3,
   "metadata": {},
   "outputs": [
    {
     "data": {
      "text/plain": [
       "(5110, 13)"
      ]
     },
     "execution_count": 3,
     "metadata": {},
     "output_type": "execute_result"
    }
   ],
   "source": [
    "df.shape"
   ]
  },
  {
   "cell_type": "markdown",
   "metadata": {},
   "source": [
    "<a id='wrangling'></a>\n",
    "# Data Wrangling"
   ]
  },
  {
   "cell_type": "markdown",
   "metadata": {},
   "source": [
    "**Assessing Data**"
   ]
  },
  {
   "cell_type": "code",
   "execution_count": 5,
   "metadata": {},
   "outputs": [],
   "source": [
    "data = df.copy()"
   ]
  },
  {
   "cell_type": "code",
   "execution_count": 6,
   "metadata": {},
   "outputs": [
    {
     "name": "stdout",
     "output_type": "stream",
     "text": [
      "<class 'pandas.core.frame.DataFrame'>\n",
      "RangeIndex: 5110 entries, 0 to 5109\n",
      "Data columns (total 12 columns):\n",
      " #   Column               Non-Null Count  Dtype         \n",
      "---  ------               --------------  -----         \n",
      " 0   DAY                  5110 non-null   datetime64[ns]\n",
      " 1   VISITS               5110 non-null   int64         \n",
      " 2   ORDERS               5110 non-null   int64         \n",
      " 3   HAS_PURCHASED_PRIOR  5110 non-null   object        \n",
      " 4   DEVICE               5110 non-null   object        \n",
      " 5   BOUNCES              5110 non-null   int64         \n",
      " 6   ADD_TO_CART          5110 non-null   int64         \n",
      " 7   PRODUCT_PAGE_VIEWS   5110 non-null   int64         \n",
      " 8   SEARCH_PAGE_VIEWS    5110 non-null   int64         \n",
      " 9   GENDER               5110 non-null   object        \n",
      " 10  AGE                  5110 non-null   int64         \n",
      " 11  INCOME               5110 non-null   int64         \n",
      "dtypes: datetime64[ns](1), int64(8), object(3)\n",
      "memory usage: 479.2+ KB\n"
     ]
    }
   ],
   "source": [
    "data.info()"
   ]
  },
  {
   "cell_type": "code",
   "execution_count": 9,
   "metadata": {},
   "outputs": [
    {
     "data": {
      "text/html": [
       "<div>\n",
       "<style scoped>\n",
       "    .dataframe tbody tr th:only-of-type {\n",
       "        vertical-align: middle;\n",
       "    }\n",
       "\n",
       "    .dataframe tbody tr th {\n",
       "        vertical-align: top;\n",
       "    }\n",
       "\n",
       "    .dataframe thead th {\n",
       "        text-align: right;\n",
       "    }\n",
       "</style>\n",
       "<table border=\"1\" class=\"dataframe\">\n",
       "  <thead>\n",
       "    <tr style=\"text-align: right;\">\n",
       "      <th></th>\n",
       "      <th>0</th>\n",
       "      <th>1</th>\n",
       "      <th>2</th>\n",
       "      <th>3</th>\n",
       "      <th>4</th>\n",
       "    </tr>\n",
       "  </thead>\n",
       "  <tbody>\n",
       "    <tr>\n",
       "      <th>DAY</th>\n",
       "      <td>2013-01-01 00:00:00</td>\n",
       "      <td>2013-01-02 00:00:00</td>\n",
       "      <td>2013-01-03 00:00:00</td>\n",
       "      <td>2013-01-04 00:00:00</td>\n",
       "      <td>2013-01-05 00:00:00</td>\n",
       "    </tr>\n",
       "    <tr>\n",
       "      <th>VISITS</th>\n",
       "      <td>64340</td>\n",
       "      <td>63958</td>\n",
       "      <td>67390</td>\n",
       "      <td>58305</td>\n",
       "      <td>74434</td>\n",
       "    </tr>\n",
       "    <tr>\n",
       "      <th>ORDERS</th>\n",
       "      <td>2312</td>\n",
       "      <td>2427</td>\n",
       "      <td>2230</td>\n",
       "      <td>1814</td>\n",
       "      <td>2333</td>\n",
       "    </tr>\n",
       "    <tr>\n",
       "      <th>HAS_PURCHASED_PRIOR</th>\n",
       "      <td>N</td>\n",
       "      <td>N</td>\n",
       "      <td>Y</td>\n",
       "      <td>N</td>\n",
       "      <td>Y</td>\n",
       "    </tr>\n",
       "    <tr>\n",
       "      <th>DEVICE</th>\n",
       "      <td>iPhone</td>\n",
       "      <td>iPhone</td>\n",
       "      <td>iPhone</td>\n",
       "      <td>iPhone</td>\n",
       "      <td>iPhone</td>\n",
       "    </tr>\n",
       "    <tr>\n",
       "      <th>BOUNCES</th>\n",
       "      <td>21755</td>\n",
       "      <td>15675</td>\n",
       "      <td>28199</td>\n",
       "      <td>24380</td>\n",
       "      <td>15518</td>\n",
       "    </tr>\n",
       "    <tr>\n",
       "      <th>ADD_TO_CART</th>\n",
       "      <td>21501</td>\n",
       "      <td>21355</td>\n",
       "      <td>17086</td>\n",
       "      <td>17172</td>\n",
       "      <td>19392</td>\n",
       "    </tr>\n",
       "    <tr>\n",
       "      <th>PRODUCT_PAGE_VIEWS</th>\n",
       "      <td>41587</td>\n",
       "      <td>41392</td>\n",
       "      <td>46559</td>\n",
       "      <td>35612</td>\n",
       "      <td>44692</td>\n",
       "    </tr>\n",
       "    <tr>\n",
       "      <th>SEARCH_PAGE_VIEWS</th>\n",
       "      <td>45582</td>\n",
       "      <td>45456</td>\n",
       "      <td>51972</td>\n",
       "      <td>41043</td>\n",
       "      <td>55954</td>\n",
       "    </tr>\n",
       "    <tr>\n",
       "      <th>GENDER</th>\n",
       "      <td>F</td>\n",
       "      <td>F</td>\n",
       "      <td>M</td>\n",
       "      <td>M</td>\n",
       "      <td>F</td>\n",
       "    </tr>\n",
       "    <tr>\n",
       "      <th>AGE</th>\n",
       "      <td>24</td>\n",
       "      <td>22</td>\n",
       "      <td>71</td>\n",
       "      <td>51</td>\n",
       "      <td>32</td>\n",
       "    </tr>\n",
       "    <tr>\n",
       "      <th>INCOME</th>\n",
       "      <td>451529</td>\n",
       "      <td>384768</td>\n",
       "      <td>283793</td>\n",
       "      <td>417355</td>\n",
       "      <td>99205</td>\n",
       "    </tr>\n",
       "  </tbody>\n",
       "</table>\n",
       "</div>"
      ],
      "text/plain": [
       "                                       0                    1  \\\n",
       "DAY                  2013-01-01 00:00:00  2013-01-02 00:00:00   \n",
       "VISITS                             64340                63958   \n",
       "ORDERS                              2312                 2427   \n",
       "HAS_PURCHASED_PRIOR                    N                    N   \n",
       "DEVICE                            iPhone               iPhone   \n",
       "BOUNCES                            21755                15675   \n",
       "ADD_TO_CART                        21501                21355   \n",
       "PRODUCT_PAGE_VIEWS                 41587                41392   \n",
       "SEARCH_PAGE_VIEWS                  45582                45456   \n",
       "GENDER                                 F                    F   \n",
       "AGE                                   24                   22   \n",
       "INCOME                            451529               384768   \n",
       "\n",
       "                                       2                    3  \\\n",
       "DAY                  2013-01-03 00:00:00  2013-01-04 00:00:00   \n",
       "VISITS                             67390                58305   \n",
       "ORDERS                              2230                 1814   \n",
       "HAS_PURCHASED_PRIOR                    Y                    N   \n",
       "DEVICE                            iPhone               iPhone   \n",
       "BOUNCES                            28199                24380   \n",
       "ADD_TO_CART                        17086                17172   \n",
       "PRODUCT_PAGE_VIEWS                 46559                35612   \n",
       "SEARCH_PAGE_VIEWS                  51972                41043   \n",
       "GENDER                                 M                    M   \n",
       "AGE                                   71                   51   \n",
       "INCOME                            283793               417355   \n",
       "\n",
       "                                       4  \n",
       "DAY                  2013-01-05 00:00:00  \n",
       "VISITS                             74434  \n",
       "ORDERS                              2333  \n",
       "HAS_PURCHASED_PRIOR                    Y  \n",
       "DEVICE                            iPhone  \n",
       "BOUNCES                            15518  \n",
       "ADD_TO_CART                        19392  \n",
       "PRODUCT_PAGE_VIEWS                 44692  \n",
       "SEARCH_PAGE_VIEWS                  55954  \n",
       "GENDER                                 F  \n",
       "AGE                                   32  \n",
       "INCOME                             99205  "
      ]
     },
     "execution_count": 9,
     "metadata": {},
     "output_type": "execute_result"
    }
   ],
   "source": [
    "data.head(5).T"
   ]
  },
  {
   "cell_type": "code",
   "execution_count": 19,
   "metadata": {},
   "outputs": [],
   "source": [
    "# Converting objects to category\n",
    "\n",
    "data.loc[:5, data.dtypes == 'object'] = data.select_dtypes(['object']).apply(lambda x: x.astype('category'))"
   ]
  },
  {
   "cell_type": "markdown",
   "metadata": {},
   "source": [
    "Checking for missing values."
   ]
  },
  {
   "cell_type": "code",
   "execution_count": 34,
   "metadata": {},
   "outputs": [
    {
     "data": {
      "text/plain": [
       "DAY                    0\n",
       "VISITS                 0\n",
       "ORDERS                 0\n",
       "HAS_PURCHASED_PRIOR    0\n",
       "DEVICE                 0\n",
       "BOUNCES                0\n",
       "ADD_TO_CART            0\n",
       "PRODUCT_PAGE_VIEWS     0\n",
       "SEARCH_PAGE_VIEWS      0\n",
       "GENDER                 0\n",
       "AGE                    0\n",
       "INCOME                 0\n",
       "dtype: int64"
      ]
     },
     "execution_count": 34,
     "metadata": {},
     "output_type": "execute_result"
    }
   ],
   "source": [
    "data.isnull().sum()"
   ]
  },
  {
   "cell_type": "code",
   "execution_count": 40,
   "metadata": {},
   "outputs": [],
   "source": [
    "# data.isnull().sum(axis=1)"
   ]
  },
  {
   "cell_type": "markdown",
   "metadata": {},
   "source": [
    "Check for duplicates"
   ]
  },
  {
   "cell_type": "code",
   "execution_count": 35,
   "metadata": {},
   "outputs": [
    {
     "data": {
      "text/plain": [
       "0"
      ]
     },
     "execution_count": 35,
     "metadata": {},
     "output_type": "execute_result"
    }
   ],
   "source": [
    "data.duplicated().sum()"
   ]
  },
  {
   "cell_type": "markdown",
   "metadata": {},
   "source": [
    "**Findings and Actions**\n",
    "\n",
    "- No missing values.\n",
    "- Convert `object` data types to `category`.\n",
    "- No duplicates.\n"
   ]
  },
  {
   "cell_type": "code",
   "execution_count": 36,
   "metadata": {},
   "outputs": [
    {
     "data": {
      "text/html": [
       "<div>\n",
       "<style scoped>\n",
       "    .dataframe tbody tr th:only-of-type {\n",
       "        vertical-align: middle;\n",
       "    }\n",
       "\n",
       "    .dataframe tbody tr th {\n",
       "        vertical-align: top;\n",
       "    }\n",
       "\n",
       "    .dataframe thead th {\n",
       "        text-align: right;\n",
       "    }\n",
       "</style>\n",
       "<table border=\"1\" class=\"dataframe\">\n",
       "  <thead>\n",
       "    <tr style=\"text-align: right;\">\n",
       "      <th></th>\n",
       "      <th>DAY</th>\n",
       "      <th>VISITS</th>\n",
       "      <th>ORDERS</th>\n",
       "      <th>HAS_PURCHASED_PRIOR</th>\n",
       "      <th>DEVICE</th>\n",
       "      <th>BOUNCES</th>\n",
       "      <th>ADD_TO_CART</th>\n",
       "      <th>PRODUCT_PAGE_VIEWS</th>\n",
       "      <th>SEARCH_PAGE_VIEWS</th>\n",
       "      <th>GENDER</th>\n",
       "      <th>AGE</th>\n",
       "      <th>INCOME</th>\n",
       "    </tr>\n",
       "  </thead>\n",
       "  <tbody>\n",
       "    <tr>\n",
       "      <th>0</th>\n",
       "      <td>2013-01-01</td>\n",
       "      <td>64340</td>\n",
       "      <td>2312</td>\n",
       "      <td>N</td>\n",
       "      <td>iPhone</td>\n",
       "      <td>21755</td>\n",
       "      <td>21501</td>\n",
       "      <td>41587</td>\n",
       "      <td>45582</td>\n",
       "      <td>F</td>\n",
       "      <td>24</td>\n",
       "      <td>451529</td>\n",
       "    </tr>\n",
       "    <tr>\n",
       "      <th>1</th>\n",
       "      <td>2013-01-02</td>\n",
       "      <td>63958</td>\n",
       "      <td>2427</td>\n",
       "      <td>N</td>\n",
       "      <td>iPhone</td>\n",
       "      <td>15675</td>\n",
       "      <td>21355</td>\n",
       "      <td>41392</td>\n",
       "      <td>45456</td>\n",
       "      <td>F</td>\n",
       "      <td>22</td>\n",
       "      <td>384768</td>\n",
       "    </tr>\n",
       "    <tr>\n",
       "      <th>2</th>\n",
       "      <td>2013-01-03</td>\n",
       "      <td>67390</td>\n",
       "      <td>2230</td>\n",
       "      <td>Y</td>\n",
       "      <td>iPhone</td>\n",
       "      <td>28199</td>\n",
       "      <td>17086</td>\n",
       "      <td>46559</td>\n",
       "      <td>51972</td>\n",
       "      <td>M</td>\n",
       "      <td>71</td>\n",
       "      <td>283793</td>\n",
       "    </tr>\n",
       "    <tr>\n",
       "      <th>3</th>\n",
       "      <td>2013-01-04</td>\n",
       "      <td>58305</td>\n",
       "      <td>1814</td>\n",
       "      <td>N</td>\n",
       "      <td>iPhone</td>\n",
       "      <td>24380</td>\n",
       "      <td>17172</td>\n",
       "      <td>35612</td>\n",
       "      <td>41043</td>\n",
       "      <td>M</td>\n",
       "      <td>51</td>\n",
       "      <td>417355</td>\n",
       "    </tr>\n",
       "    <tr>\n",
       "      <th>4</th>\n",
       "      <td>2013-01-05</td>\n",
       "      <td>74434</td>\n",
       "      <td>2333</td>\n",
       "      <td>Y</td>\n",
       "      <td>iPhone</td>\n",
       "      <td>15518</td>\n",
       "      <td>19392</td>\n",
       "      <td>44692</td>\n",
       "      <td>55954</td>\n",
       "      <td>F</td>\n",
       "      <td>32</td>\n",
       "      <td>99205</td>\n",
       "    </tr>\n",
       "  </tbody>\n",
       "</table>\n",
       "</div>"
      ],
      "text/plain": [
       "         DAY  VISITS  ORDERS HAS_PURCHASED_PRIOR  DEVICE  BOUNCES  \\\n",
       "0 2013-01-01   64340    2312                   N  iPhone    21755   \n",
       "1 2013-01-02   63958    2427                   N  iPhone    15675   \n",
       "2 2013-01-03   67390    2230                   Y  iPhone    28199   \n",
       "3 2013-01-04   58305    1814                   N  iPhone    24380   \n",
       "4 2013-01-05   74434    2333                   Y  iPhone    15518   \n",
       "\n",
       "   ADD_TO_CART  PRODUCT_PAGE_VIEWS  SEARCH_PAGE_VIEWS GENDER  AGE  INCOME  \n",
       "0        21501               41587              45582      F   24  451529  \n",
       "1        21355               41392              45456      F   22  384768  \n",
       "2        17086               46559              51972      M   71  283793  \n",
       "3        17172               35612              41043      M   51  417355  \n",
       "4        19392               44692              55954      F   32   99205  "
      ]
     },
     "execution_count": 36,
     "metadata": {},
     "output_type": "execute_result"
    }
   ],
   "source": [
    "data.head()"
   ]
  },
  {
   "cell_type": "code",
   "execution_count": 37,
   "metadata": {},
   "outputs": [
    {
     "data": {
      "text/html": [
       "<div>\n",
       "<style scoped>\n",
       "    .dataframe tbody tr th:only-of-type {\n",
       "        vertical-align: middle;\n",
       "    }\n",
       "\n",
       "    .dataframe tbody tr th {\n",
       "        vertical-align: top;\n",
       "    }\n",
       "\n",
       "    .dataframe thead th {\n",
       "        text-align: right;\n",
       "    }\n",
       "</style>\n",
       "<table border=\"1\" class=\"dataframe\">\n",
       "  <thead>\n",
       "    <tr style=\"text-align: right;\">\n",
       "      <th></th>\n",
       "      <th>VISITS</th>\n",
       "      <th>ORDERS</th>\n",
       "      <th>BOUNCES</th>\n",
       "      <th>ADD_TO_CART</th>\n",
       "      <th>PRODUCT_PAGE_VIEWS</th>\n",
       "      <th>SEARCH_PAGE_VIEWS</th>\n",
       "      <th>AGE</th>\n",
       "      <th>INCOME</th>\n",
       "    </tr>\n",
       "  </thead>\n",
       "  <tbody>\n",
       "    <tr>\n",
       "      <th>count</th>\n",
       "      <td>5110.000000</td>\n",
       "      <td>5110.000000</td>\n",
       "      <td>5110.000000</td>\n",
       "      <td>5110.000000</td>\n",
       "      <td>5110.000000</td>\n",
       "      <td>5110.000000</td>\n",
       "      <td>5110.000000</td>\n",
       "      <td>5110.000000</td>\n",
       "    </tr>\n",
       "    <tr>\n",
       "      <th>mean</th>\n",
       "      <td>183480.110959</td>\n",
       "      <td>6410.258904</td>\n",
       "      <td>60133.768689</td>\n",
       "      <td>54968.698239</td>\n",
       "      <td>119285.097260</td>\n",
       "      <td>137587.489237</td>\n",
       "      <td>48.517417</td>\n",
       "      <td>258453.877886</td>\n",
       "    </tr>\n",
       "    <tr>\n",
       "      <th>std</th>\n",
       "      <td>250006.872086</td>\n",
       "      <td>8775.732587</td>\n",
       "      <td>85182.114110</td>\n",
       "      <td>75401.482153</td>\n",
       "      <td>162983.051841</td>\n",
       "      <td>187651.313442</td>\n",
       "      <td>18.147166</td>\n",
       "      <td>139310.205224</td>\n",
       "    </tr>\n",
       "    <tr>\n",
       "      <th>min</th>\n",
       "      <td>1518.000000</td>\n",
       "      <td>46.000000</td>\n",
       "      <td>343.000000</td>\n",
       "      <td>394.000000</td>\n",
       "      <td>941.000000</td>\n",
       "      <td>1068.000000</td>\n",
       "      <td>18.000000</td>\n",
       "      <td>15049.000000</td>\n",
       "    </tr>\n",
       "    <tr>\n",
       "      <th>25%</th>\n",
       "      <td>22844.000000</td>\n",
       "      <td>799.000000</td>\n",
       "      <td>7101.500000</td>\n",
       "      <td>6775.500000</td>\n",
       "      <td>14765.000000</td>\n",
       "      <td>17177.750000</td>\n",
       "      <td>33.000000</td>\n",
       "      <td>138866.000000</td>\n",
       "    </tr>\n",
       "    <tr>\n",
       "      <th>50%</th>\n",
       "      <td>60452.500000</td>\n",
       "      <td>2095.500000</td>\n",
       "      <td>19077.500000</td>\n",
       "      <td>18086.000000</td>\n",
       "      <td>39293.000000</td>\n",
       "      <td>45558.000000</td>\n",
       "      <td>48.000000</td>\n",
       "      <td>260371.500000</td>\n",
       "    </tr>\n",
       "    <tr>\n",
       "      <th>75%</th>\n",
       "      <td>284524.250000</td>\n",
       "      <td>9646.750000</td>\n",
       "      <td>77862.500000</td>\n",
       "      <td>82423.750000</td>\n",
       "      <td>183667.500000</td>\n",
       "      <td>214094.750000</td>\n",
       "      <td>64.000000</td>\n",
       "      <td>379528.750000</td>\n",
       "    </tr>\n",
       "    <tr>\n",
       "      <th>max</th>\n",
       "      <td>824880.000000</td>\n",
       "      <td>32895.000000</td>\n",
       "      <td>369338.000000</td>\n",
       "      <td>284697.000000</td>\n",
       "      <td>575068.000000</td>\n",
       "      <td>655291.000000</td>\n",
       "      <td>80.000000</td>\n",
       "      <td>499838.000000</td>\n",
       "    </tr>\n",
       "  </tbody>\n",
       "</table>\n",
       "</div>"
      ],
      "text/plain": [
       "              VISITS        ORDERS        BOUNCES    ADD_TO_CART  \\\n",
       "count    5110.000000   5110.000000    5110.000000    5110.000000   \n",
       "mean   183480.110959   6410.258904   60133.768689   54968.698239   \n",
       "std    250006.872086   8775.732587   85182.114110   75401.482153   \n",
       "min      1518.000000     46.000000     343.000000     394.000000   \n",
       "25%     22844.000000    799.000000    7101.500000    6775.500000   \n",
       "50%     60452.500000   2095.500000   19077.500000   18086.000000   \n",
       "75%    284524.250000   9646.750000   77862.500000   82423.750000   \n",
       "max    824880.000000  32895.000000  369338.000000  284697.000000   \n",
       "\n",
       "       PRODUCT_PAGE_VIEWS  SEARCH_PAGE_VIEWS          AGE         INCOME  \n",
       "count         5110.000000        5110.000000  5110.000000    5110.000000  \n",
       "mean        119285.097260      137587.489237    48.517417  258453.877886  \n",
       "std         162983.051841      187651.313442    18.147166  139310.205224  \n",
       "min            941.000000        1068.000000    18.000000   15049.000000  \n",
       "25%          14765.000000       17177.750000    33.000000  138866.000000  \n",
       "50%          39293.000000       45558.000000    48.000000  260371.500000  \n",
       "75%         183667.500000      214094.750000    64.000000  379528.750000  \n",
       "max         575068.000000      655291.000000    80.000000  499838.000000  "
      ]
     },
     "execution_count": 37,
     "metadata": {},
     "output_type": "execute_result"
    }
   ],
   "source": [
    "data.describe()"
   ]
  },
  {
   "cell_type": "markdown",
   "metadata": {},
   "source": [
    "Checking for unique values in every column"
   ]
  },
  {
   "cell_type": "code",
   "execution_count": 42,
   "metadata": {},
   "outputs": [
    {
     "data": {
      "text/plain": [
       "DAY                     365\n",
       "VISITS                 5024\n",
       "ORDERS                 3706\n",
       "HAS_PURCHASED_PRIOR       2\n",
       "DEVICE                    7\n",
       "BOUNCES                4904\n",
       "ADD_TO_CART            4869\n",
       "PRODUCT_PAGE_VIEWS     4979\n",
       "SEARCH_PAGE_VIEWS      5023\n",
       "GENDER                    2\n",
       "AGE                      63\n",
       "INCOME                 5079\n",
       "dtype: int64"
      ]
     },
     "execution_count": 42,
     "metadata": {},
     "output_type": "execute_result"
    }
   ],
   "source": [
    "data.nunique()"
   ]
  },
  {
   "cell_type": "markdown",
   "metadata": {},
   "source": [
    "<a id=\"feat_eng\"></a>\n",
    "# Feature Engineering"
   ]
  },
  {
   "cell_type": "code",
   "execution_count": 52,
   "metadata": {},
   "outputs": [
    {
     "data": {
      "text/plain": [
       "['16 - 20',\n",
       " '21 - 25',\n",
       " '26 - 30',\n",
       " '31 - 35',\n",
       " '36 - 40',\n",
       " '41 - 45',\n",
       " '46 - 50',\n",
       " '51 - 55',\n",
       " '56 - 60',\n",
       " '61 - 65',\n",
       " '66 - 70',\n",
       " '71 - 75',\n",
       " '76 - 80']"
      ]
     },
     "execution_count": 52,
     "metadata": {},
     "output_type": "execute_result"
    }
   ],
   "source": [
    "bin_labels = [\"{0} - {1}\".format(age+1, age + 5) for age in range(15, 80, 5)]\n",
    "bin_labels"
   ]
  },
  {
   "cell_type": "code",
   "execution_count": 53,
   "metadata": {},
   "outputs": [],
   "source": [
    "data['AGE_GROUP'] = pd.cut(x=data['AGE'], bins=len(bin_labels), labels=bin_labels)\n"
   ]
  },
  {
   "cell_type": "code",
   "execution_count": 60,
   "metadata": {},
   "outputs": [],
   "source": [
    "data['CONVERSION_RATE'] = data['ORDERS']/data['VISITS']\n",
    "data['BOUNCE_RATE'] = data['BOUNCES']/data['VISITS']\n",
    "data['ADD_TO_CART_RATE'] = data['ADD_TO_CART']/data['VISITS']"
   ]
  },
  {
   "cell_type": "markdown",
   "metadata": {},
   "source": [
    "<a id=\"eda\"></a>\n",
    "# Exploratory Data Analysis"
   ]
  },
  {
   "cell_type": "markdown",
   "metadata": {},
   "source": [
    "### Univariate Analysis"
   ]
  }
 ],
 "metadata": {
  "kernelspec": {
   "display_name": "Python 3.9.12 ('base')",
   "language": "python",
   "name": "python3"
  },
  "language_info": {
   "codemirror_mode": {
    "name": "ipython",
    "version": 3
   },
   "file_extension": ".py",
   "mimetype": "text/x-python",
   "name": "python",
   "nbconvert_exporter": "python",
   "pygments_lexer": "ipython3",
   "version": "3.9.12"
  },
  "orig_nbformat": 4,
  "vscode": {
   "interpreter": {
    "hash": "a077222d77dfe082b8f1dd562ad70e458ac2ab76993a0b248ab0476e32e9e8dd"
   }
  }
 },
 "nbformat": 4,
 "nbformat_minor": 2
}
